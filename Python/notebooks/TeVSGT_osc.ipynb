{
 "cells": [
  {
   "cell_type": "code",
   "execution_count": 1,
   "id": "9f0d3565-32ae-441f-a237-60429310a5c1",
   "metadata": {},
   "outputs": [],
   "source": [
    "import matplotlib.pyplot as plt\n",
    "import timeit\n",
    "import sys\n",
    "\n",
    "module_path = '../src/'\n",
    "\n",
    "sys.path.append(module_path)\n",
    "from implement_TeVSGT import *"
   ]
  },
  {
   "cell_type": "code",
   "execution_count": 2,
   "id": "dcc48672",
   "metadata": {},
   "outputs": [
    {
     "name": "stdout",
     "output_type": "stream",
     "text": [
      "Compiling TeVSGT...\n",
      "\n",
      "Done! \n",
      "CPphases: Dataset\n",
      "  Shape: (1,), DataType: float64\n",
      "aneustate: Dataset\n",
      "  Shape: (100, 9), DataType: float64\n",
      "basic: Dataset\n",
      "  Shape: (1,), DataType: float64\n",
      "body: Group\n",
      "body/earth_density: Dataset\n",
      "  Shape: (201,), DataType: float64\n",
      "body/earth_radius: Dataset\n",
      "  Shape: (201,), DataType: float64\n",
      "body/earth_ye: Dataset\n",
      "  Shape: (201,), DataType: float64\n",
      "crosssections: Group\n",
      "energies: Dataset\n",
      "  Shape: (100,), DataType: float64\n",
      "massdifferences: Dataset\n",
      "  Shape: (1,), DataType: float64\n",
      "mixingangles: Dataset\n",
      "  Shape: (1,), DataType: float64\n",
      "neustate: Dataset\n",
      "  Shape: (100, 9), DataType: float64\n",
      "track: Group\n",
      "user_parameters: Group\n"
     ]
    }
   ],
   "source": [
    "model_type = \"SM\"\n",
    "params_ranges = []\n",
    "neutrino_type = \"antineutrino\" \n",
    "L = 12742 # km\n",
    "E_min = 1 # GeV\n",
    "E_max = 1e5 # GeV\n",
    "E_range = [E_min, E_max]\n",
    "medium = \"earth\"\n",
    "initial_flux_ratios = [0, 1, 0]\n",
    "NormalOrdering = True\n",
    "\n",
    "implement_model(model_type, params_ranges, E_range, [medium, [-1, 0, 2]], initial_flux_ratios, neutrino_type, NormalOrdering, Nen=200)"
   ]
  },
  {
   "cell_type": "code",
   "execution_count": 3,
   "id": "3ee89f65-5a07-4e08-ad4c-24a51f55d09f",
   "metadata": {},
   "outputs": [
    {
     "name": "stdout",
     "output_type": "stream",
     "text": [
      "Compiling TeVSGT...\n",
      "\n",
      "Done! \n",
      "CPphases: Dataset\n",
      "  Shape: (1,), DataType: float64\n",
      "aneustate: Dataset\n",
      "  Shape: (100, 81), DataType: float64\n",
      "basic: Dataset\n",
      "  Shape: (1,), DataType: float64\n",
      "body: Group\n",
      "body/earth_density: Dataset\n",
      "  Shape: (201,), DataType: float64\n",
      "body/earth_radius: Dataset\n",
      "  Shape: (201,), DataType: float64\n",
      "body/earth_ye: Dataset\n",
      "  Shape: (201,), DataType: float64\n",
      "crosssections: Group\n",
      "energies: Dataset\n",
      "  Shape: (100,), DataType: float64\n",
      "massdifferences: Dataset\n",
      "  Shape: (1,), DataType: float64\n",
      "mixingangles: Dataset\n",
      "  Shape: (1,), DataType: float64\n",
      "neustate: Dataset\n",
      "  Shape: (100, 81), DataType: float64\n",
      "track: Group\n",
      "user_parameters: Group\n"
     ]
    }
   ],
   "source": [
    "model_type = \"ADD\"\n",
    "params_ranges = [[0.2, 0]]\n",
    "neutrino_type = \"antineutrino\" \n",
    "L = 12742 # km\n",
    "E_min = 1 # GeV\n",
    "E_max = 1e5 # GeV\n",
    "E_range = [E_min, E_max]\n",
    "medium = \"earth\"\n",
    "initial_flux_ratios = [0, 1, 0]\n",
    "NormalOrdering = True\n",
    "\n",
    "implement_model(model_type, params_ranges, E_range, [medium, [-1, 0, 2]], initial_flux_ratios, neutrino_type, NormalOrdering, Nen=1000)"
   ]
  },
  {
   "cell_type": "code",
   "execution_count": 4,
   "id": "58a7d172",
   "metadata": {},
   "outputs": [
    {
     "name": "stdout",
     "output_type": "stream",
     "text": [
      "Compiling TeVSGT...\n",
      "\n",
      "Done! \n",
      "CPphases: Dataset\n",
      "  Shape: (1,), DataType: float64\n",
      "aneustate: Dataset\n",
      "  Shape: (100, 36), DataType: float64\n",
      "basic: Dataset\n",
      "  Shape: (1,), DataType: float64\n",
      "body: Group\n",
      "crosssections: Group\n",
      "energies: Dataset\n",
      "  Shape: (100,), DataType: float64\n",
      "massdifferences: Dataset\n",
      "  Shape: (1,), DataType: float64\n",
      "mixingangles: Dataset\n",
      "  Shape: (1,), DataType: float64\n",
      "neustate: Dataset\n",
      "  Shape: (100, 36), DataType: float64\n",
      "track: Group\n",
      "user_parameters: Group\n"
     ]
    }
   ],
   "source": [
    "model_type = \"SM_Copies\"\n",
    "params_ranges = [[10, 5, 0]]\n",
    "neutrino_type = \"antineutrino\" \n",
    "L = 12742 # km\n",
    "E_min = 1 # GeV\n",
    "E_max = 1e5 # GeV\n",
    "E_range = [E_min, E_max]\n",
    "medium = \"vacuum\"\n",
    "initial_flux_ratios = [0, 1, 0]\n",
    "NormalOrdering = True\n",
    "\n",
    "implement_model(model_type, params_ranges, E_range, [medium, [L, L, 2]], initial_flux_ratios, neutrino_type, NormalOrdering, Nen=1000)"
   ]
  },
  {
   "cell_type": "code",
   "execution_count": 5,
   "id": "74f694e3",
   "metadata": {},
   "outputs": [
    {
     "name": "stdout",
     "output_type": "stream",
     "text": [
      "Compiling TeVSGT...\n",
      "\n",
      "Done! \n",
      "CPphases: Dataset\n",
      "  Shape: (1,), DataType: float64\n",
      "aneustate: Dataset\n",
      "  Shape: (100, 81), DataType: float64\n",
      "basic: Dataset\n",
      "  Shape: (1,), DataType: float64\n",
      "body: Group\n",
      "body/earth_density: Dataset\n",
      "  Shape: (201,), DataType: float64\n",
      "body/earth_radius: Dataset\n",
      "  Shape: (201,), DataType: float64\n",
      "body/earth_ye: Dataset\n",
      "  Shape: (201,), DataType: float64\n",
      "crosssections: Group\n",
      "energies: Dataset\n",
      "  Shape: (100,), DataType: float64\n",
      "massdifferences: Dataset\n",
      "  Shape: (1,), DataType: float64\n",
      "mixingangles: Dataset\n",
      "  Shape: (1,), DataType: float64\n",
      "neustate: Dataset\n",
      "  Shape: (100, 81), DataType: float64\n",
      "track: Group\n",
      "user_parameters: Group\n"
     ]
    }
   ],
   "source": [
    "model_type = \"ADD\"\n",
    "params_ranges = [[0.2, 0]]\n",
    "neutrino_type = \"antineutrino\" \n",
    "L = 12742 # km\n",
    "E_min = 1 # GeV\n",
    "E_max = 1e5 # GeV\n",
    "E_range = [E_min, E_max]\n",
    "medium = \"earth\"\n",
    "initial_flux_ratios = [0, 1, 0]\n",
    "NormalOrdering = True\n",
    "\n",
    "n_mesh = 10\n",
    "implement_model(model_type, params_ranges, E_range, [medium, [-1, 0, n_mesh]], initial_flux_ratios, neutrino_type, NormalOrdering, Nen=n_mesh)"
   ]
  },
  {
   "cell_type": "code",
   "execution_count": null,
   "id": "2d9c040a",
   "metadata": {},
   "outputs": [],
   "source": []
  }
 ],
 "metadata": {
  "kernelspec": {
   "display_name": "Python 3 (ipykernel)",
   "language": "python",
   "name": "python3"
  },
  "language_info": {
   "codemirror_mode": {
    "name": "ipython",
    "version": 3
   },
   "file_extension": ".py",
   "mimetype": "text/x-python",
   "name": "python",
   "nbconvert_exporter": "python",
   "pygments_lexer": "ipython3",
   "version": "3.10.12"
  }
 },
 "nbformat": 4,
 "nbformat_minor": 5
}
